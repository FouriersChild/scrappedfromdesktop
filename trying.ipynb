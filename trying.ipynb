{
 "cells": [
  {
   "cell_type": "code",
   "execution_count": 37,
   "metadata": {},
   "outputs": [],
   "source": [
    "#make data\n",
    "#set up model\n",
    "#set up losses and optimizer\n",
    "#backwardpropogation\n",
    "\n",
    "import numpy as np\n",
    "import torch\n",
    "import torch.nn as nn\n",
    "import matplotlib.pyplot as plt"
   ]
  },
  {
   "cell_type": "code",
   "execution_count": 78,
   "metadata": {},
   "outputs": [
    {
     "name": "stdout",
     "output_type": "stream",
     "text": [
      "[[ 0.]\n",
      " [ 1.]\n",
      " [ 2.]\n",
      " [ 3.]\n",
      " [ 4.]\n",
      " [ 5.]\n",
      " [ 6.]\n",
      " [ 7.]\n",
      " [ 8.]\n",
      " [ 9.]\n",
      " [10.]\n",
      " [11.]]\n",
      "<class 'numpy.ndarray'>\n"
     ]
    },
    {
     "data": {
      "image/png": "[encoded data removed]",
      "text/plain": [
       "<Figure size 432x288 with 1 Axes>"
      ]
     },
     "metadata": {
      "needs_background": "light"
     },
     "output_type": "display_data"
    }
   ],
   "source": [
    "# create dummy data for training\n",
    "x_values = [i for i in range(12)]\n",
    "x_train = np.array(x_values, dtype=np.float32)\n",
    "x_train = x_train.reshape(-1, 1)\n",
    "print(x_train)\n",
    "\n",
    "\n",
    "y_values = [2*i + 1 for i in x_values]\n",
    "y_train = np.array(y_values, dtype=np.float32)\n",
    "y_train = y_train.reshape(-1, 1)\n",
    "print(type(y_train))\n",
    "\n",
    "plt.plot(x_train, y_train, 'o')\n",
    "plt.show()"
   ]
  },
  {
   "cell_type": "code",
   "execution_count": 71,
   "metadata": {},
   "outputs": [],
   "source": [
    "class NN(nn.Module):\n",
    "    def __init__(self, input_size, output_size):\n",
    "        super(NN, self).__init__()\n",
    "        self.linear = nn.Linear(input_size, output_size)\n",
    "    def forward(self, x):\n",
    "        pred = self.linear(x)\n",
    "        return pred"
   ]
  },
  {
   "cell_type": "code",
   "execution_count": 72,
   "metadata": {},
   "outputs": [],
   "source": [
    "model = NN(1,1)"
   ]
  },
  {
   "cell_type": "code",
   "execution_count": 73,
   "metadata": {},
   "outputs": [],
   "source": [
    "criterion = nn.MSELoss()\n",
    "optimizer = torch.optim.SGD(model.parameters(), lr = 0.01)"
   ]
  },
  {
   "cell_type": "code",
   "execution_count": 82,
   "metadata": {},
   "outputs": [
    {
     "name": "stdout",
     "output_type": "stream",
     "text": [
      "Epoch: 0  Loss: 0.07498282939195633\n",
      "Epoch: 1  Loss: 0.07415164262056351\n",
      "Epoch: 2  Loss: 0.07332995533943176\n",
      "Epoch: 3  Loss: 0.0725172832608223\n",
      "Epoch: 4  Loss: 0.07171329110860825\n",
      "Epoch: 5  Loss: 0.07091862708330154\n",
      "Epoch: 6  Loss: 0.07013259828090668\n",
      "Epoch: 7  Loss: 0.06935540586709976\n",
      "Epoch: 8  Loss: 0.06858666241168976\n",
      "Epoch: 9  Loss: 0.06782647222280502\n",
      "Epoch: 10  Loss: 0.06707482039928436\n",
      "Epoch: 11  Loss: 0.06633130460977554\n",
      "Epoch: 12  Loss: 0.06559620797634125\n",
      "Epoch: 13  Loss: 0.06486911326646805\n",
      "Epoch: 14  Loss: 0.06415025144815445\n",
      "Epoch: 15  Loss: 0.0634392499923706\n",
      "Epoch: 16  Loss: 0.06273609399795532\n",
      "Epoch: 17  Loss: 0.06204088777303696\n",
      "Epoch: 18  Loss: 0.06135328486561775\n",
      "Epoch: 19  Loss: 0.06067327409982681\n",
      "Epoch: 20  Loss: 0.06000074744224548\n",
      "Epoch: 21  Loss: 0.059335824102163315\n",
      "Epoch: 22  Loss: 0.058678269386291504\n",
      "Epoch: 23  Loss: 0.05802783742547035\n",
      "Epoch: 24  Loss: 0.057384613901376724\n",
      "Epoch: 25  Loss: 0.05674875155091286\n",
      "Epoch: 26  Loss: 0.056119851768016815\n",
      "Epoch: 27  Loss: 0.05549784377217293\n",
      "Epoch: 28  Loss: 0.0548827201128006\n",
      "Epoch: 29  Loss: 0.054274506866931915\n",
      "Epoch: 30  Loss: 0.05367278680205345\n",
      "Epoch: 31  Loss: 0.053077999502420425\n",
      "Epoch: 32  Loss: 0.05248983949422836\n",
      "Epoch: 33  Loss: 0.051908064633607864\n",
      "Epoch: 34  Loss: 0.05133282020688057\n",
      "Epoch: 35  Loss: 0.050763778388500214\n",
      "Epoch: 36  Loss: 0.05020115524530411\n",
      "Epoch: 37  Loss: 0.049644794315099716\n",
      "Epoch: 38  Loss: 0.0490945503115654\n",
      "Epoch: 39  Loss: 0.04855044186115265\n",
      "Epoch: 40  Loss: 0.0480123870074749\n",
      "Epoch: 41  Loss: 0.04748012498021126\n",
      "Epoch: 42  Loss: 0.04695410281419754\n",
      "Epoch: 43  Loss: 0.04643363878130913\n",
      "Epoch: 44  Loss: 0.045918989926576614\n",
      "Epoch: 45  Loss: 0.04540996626019478\n",
      "Epoch: 46  Loss: 0.04490676522254944\n",
      "Epoch: 47  Loss: 0.04440900683403015\n",
      "Epoch: 48  Loss: 0.043916843831539154\n",
      "Epoch: 49  Loss: 0.04343018680810928\n",
      "Epoch: 50  Loss: 0.04294881597161293\n",
      "Epoch: 51  Loss: 0.042472705245018005\n",
      "Epoch: 52  Loss: 0.04200199246406555\n",
      "Epoch: 53  Loss: 0.041536517441272736\n",
      "Epoch: 54  Loss: 0.041076213121414185\n",
      "Epoch: 55  Loss: 0.04062093794345856\n",
      "Epoch: 56  Loss: 0.04017067328095436\n",
      "Epoch: 57  Loss: 0.039725471287965775\n",
      "Epoch: 58  Loss: 0.03928527608513832\n",
      "Epoch: 59  Loss: 0.038849834352731705\n",
      "Epoch: 60  Loss: 0.038419242948293686\n",
      "Epoch: 61  Loss: 0.0379934199154377\n",
      "Epoch: 62  Loss: 0.03757227212190628\n",
      "Epoch: 63  Loss: 0.037155963480472565\n",
      "Epoch: 64  Loss: 0.0367441289126873\n",
      "Epoch: 65  Loss: 0.03633686527609825\n",
      "Epoch: 66  Loss: 0.03593415766954422\n",
      "Epoch: 67  Loss: 0.03553583845496178\n",
      "Epoch: 68  Loss: 0.03514204919338226\n",
      "Epoch: 69  Loss: 0.03475248068571091\n",
      "Epoch: 70  Loss: 0.03436737880110741\n",
      "Epoch: 71  Loss: 0.03398646041750908\n",
      "Epoch: 72  Loss: 0.03360980376601219\n",
      "Epoch: 73  Loss: 0.03323730453848839\n",
      "Epoch: 74  Loss: 0.032868921756744385\n",
      "Epoch: 75  Loss: 0.03250470012426376\n",
      "Epoch: 76  Loss: 0.032144445925951004\n",
      "Epoch: 77  Loss: 0.03178812935948372\n",
      "Epoch: 78  Loss: 0.03143579140305519\n",
      "Epoch: 79  Loss: 0.031087396666407585\n",
      "Epoch: 80  Loss: 0.030742859467864037\n",
      "Epoch: 81  Loss: 0.030402105301618576\n",
      "Epoch: 82  Loss: 0.030065162107348442\n",
      "Epoch: 83  Loss: 0.02973199635744095\n",
      "Epoch: 84  Loss: 0.029402505606412888\n",
      "Epoch: 85  Loss: 0.029076501727104187\n",
      "Epoch: 86  Loss: 0.028754310682415962\n",
      "Epoch: 87  Loss: 0.02843562141060829\n",
      "Epoch: 88  Loss: 0.028120433911681175\n",
      "Epoch: 89  Loss: 0.027808777987957\n",
      "Epoch: 90  Loss: 0.027500594034790993\n",
      "Epoch: 91  Loss: 0.02719578705728054\n",
      "Epoch: 92  Loss: 0.026894433423876762\n",
      "Epoch: 93  Loss: 0.02659626305103302\n",
      "Epoch: 94  Loss: 0.02630152739584446\n",
      "Epoch: 95  Loss: 0.02601003833115101\n",
      "Epoch: 96  Loss: 0.02572181075811386\n",
      "Epoch: 97  Loss: 0.025436650961637497\n",
      "Epoch: 98  Loss: 0.02515481784939766\n",
      "Epoch: 99  Loss: 0.024876024574041367\n"
     ]
    }
   ],
   "source": [
    "epoch = 100\n",
    "for epoch in range(epoch):\n",
    "    prediction = model.forward(torch.from_numpy(x_train))\n",
    "    label = torch.from_numpy(y_train)\n",
    "    \n",
    "    optimizer.zero_grad()\n",
    "    loss = criterion(prediction, label)\n",
    "    loss.backward()\n",
    "    optimizer.step()\n",
    "    print(\"Epoch:\",epoch,\" Loss:\", loss.item())\n",
    "    "
   ]
  },
  {
   "cell_type": "code",
   "execution_count": 110,
   "metadata": {},
   "outputs": [
    {
     "data": {
      "image/png": "[encoded data removed]",
      "text/plain": [
       "<Figure size 432x288 with 1 Axes>"
      ]
     },
     "metadata": {
      "needs_background": "light"
     },
     "output_type": "display_data"
    }
   ],
   "source": [
    "plt.close()\n",
    "array = np.array([[0],[20]], dtype=np.float32)\n",
    "array = torch.from_numpy(array)\n",
    "points = model.forward(array)\n",
    "\n",
    "plt.plot(array,points.data.numpy())\n",
    "plt.plot(x_train, y_train, 'o')\n",
    "plt.show()"
   ]
  },
  {
   "cell_type": "code",
   "execution_count": null,
   "metadata": {},
   "outputs": [],
   "source": []
  }
 ],
 "metadata": {
  "kernelspec": {
   "display_name": "Python 3",
   "language": "python",
   "name": "python3"
  },
  "language_info": {
   "codemirror_mode": {
    "name": "ipython",
    "version": 3
   },
   "file_extension": ".py",
   "mimetype": "text/x-python",
   "name": "python",
   "nbconvert_exporter": "python",
   "pygments_lexer": "ipython3",
   "version": "3.7.4"
  }
 },
 "nbformat": 4,
 "nbformat_minor": 2
}
